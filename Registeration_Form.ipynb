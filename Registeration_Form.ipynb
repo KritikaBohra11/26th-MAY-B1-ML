{
 "cells": [
  {
   "cell_type": "code",
   "execution_count": 1,
   "metadata": {},
   "outputs": [],
   "source": [
    "from tkinter import *"
   ]
  },
  {
   "cell_type": "code",
   "execution_count": null,
   "metadata": {},
   "outputs": [],
   "source": [
    "window=Tk()\n",
    "window.title(\"Registeration Form\")\n",
    "window.geometry(\"400x380\")\n",
    "\n",
    "f_name=Variable(window)\n",
    "e_mail=Variable(window)\n",
    "u_name=Variable(window)\n",
    "pwd=Variable(window)\n",
    "age=Variable(window)\n",
    "mobile=Variable(window)\n",
    "\n",
    "\n",
    "lbl=Label(window,text=\"Full_Name\").place(x=30,y=30)\n",
    "lbl1=Label(window,text=\"Email_ID\").place(x=30,y=60)\n",
    "lbl2=Label(window,text=\"User_Name\").place(x=30,y=90)\n",
    "lbl3=Label(window,text=\"Password\").place(x=30,y=120)\n",
    "lbl4=Label(window,text=\"Age\").place(x=30,y=150)\n",
    "lbl5=Label(window,text=\"Mobile_number\").place(x=30,y=180)\n",
    "\n",
    "ent=Entry(window,textvariable=f_name,width=12).place(x=150,y=30)\n",
    "ent1=Entry(window,textvariable=e_mail,width=12).place(x=150,y=60)\n",
    "ent2=Entry(window,textvariable=u_name,width=12).place(x=150,y=90)\n",
    "ent3=Entry(window,textvariable=pwd,width=12).place(x=150,y=120)\n",
    "ent4=Entry(window,textvariable=age,width=12).place(x=150,y=150)\n",
    "ent5=Entry(window,textvariable=mobile,width=12).place(x=150,y=180)\n",
    "\n",
    "\n",
    "def Take():\n",
    "    f = open('data.txt','a')\n",
    "    data = [f_name.get(),e_mail.get(),u_name.get(),pwd.get(),age.get(),mobile.get()]\n",
    "    f.write(',\\n'.join(data)+'\\n')\n",
    "\n",
    "    f.close()\n",
    "    f_name.set('')\n",
    "    e_mail.set('')\n",
    "    u_name.set('')\n",
    "    pwd.set('')\n",
    "    age.set('')\n",
    "    mobile.set('')\n",
    "    \n",
    "    \n",
    "    \n",
    "    \n"
   ]
  }
 ],
 "metadata": {
  "kernelspec": {
   "display_name": "Python 3",
   "language": "python",
   "name": "python3"
  },
  "language_info": {
   "codemirror_mode": {
    "name": "ipython",
    "version": 3
   },
   "file_extension": ".py",
   "mimetype": "text/x-python",
   "name": "python",
   "nbconvert_exporter": "python",
   "pygments_lexer": "ipython3",
   "version": "3.8.5"
  }
 },
 "nbformat": 4,
 "nbformat_minor": 4
}
